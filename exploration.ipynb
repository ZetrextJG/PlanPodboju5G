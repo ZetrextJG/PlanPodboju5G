{
 "cells": [
  {
   "cell_type": "code",
   "execution_count": 1,
   "metadata": {},
   "outputs": [
    {
     "name": "stderr",
     "output_type": "stream",
     "text": [
      "/tmp/ipykernel_18832/2995603844.py:2: DeprecationWarning: \n",
      "Pyarrow will become a required dependency of pandas in the next major release of pandas (pandas 3.0),\n",
      "(to allow more performant data types, such as the Arrow string type, and better interoperability with other libraries)\n",
      "but was not found to be installed on your system.\n",
      "If this would cause problems for you,\n",
      "please provide us feedback at https://github.com/pandas-dev/pandas/issues/54466\n",
      "        \n",
      "  import pandas as pd\n"
     ]
    }
   ],
   "source": [
    "import numpy as np\n",
    "import pandas as pd\n",
    "from numba import jit"
   ]
  },
  {
   "cell_type": "markdown",
   "metadata": {},
   "source": [
    "# Exploring Chain "
   ]
  },
  {
   "cell_type": "code",
   "execution_count": 44,
   "metadata": {},
   "outputs": [],
   "source": [
    "from abc import ABC, abstractmethod\n",
    "from functools import lru_cache\n",
    "\n",
    "\n",
    "@lru_cache\n",
    "@jit(nopython=True)\n",
    "def get_geometric_probs(n: int, p: int) -> np.ndarray:\n",
    "    vector = np.array([p]) ** np.arange(1, n+1)\n",
    "    return vector / np.sum(vector)\n",
    "\n",
    "\n",
    "class MarkovChain(ABC):\n",
    "    def __init__(self, n_cities: int) -> None:\n",
    "        self.n_cities = n_cities\n",
    "        assert self.n_cities > 0\n",
    "        self.rng  = np.random.default_rng()\n",
    "\n",
    "    @abstractmethod\n",
    "    def next_state(self, state: np.ndarray) -> np.ndarray:\n",
    "        ...\n",
    "\n",
    "\n",
    "class RandomWalk(MarkovChain):\n",
    "    def __init__(self, n_cities: int) -> None:\n",
    "        super().__init__(n_cities)\n",
    "\n",
    "    def next_state(self, state: np.ndarray) -> np.ndarray:\n",
    "        u = self.rng.random()\n",
    "        if u <= (1 / (self.n_cities + 1)):\n",
    "            return state\n",
    "        \n",
    "        idx = self.rng.integers(0, self.n_cities, endpoint=False)\n",
    "        new_state = state.copy()\n",
    "        new_state[idx] = ~new_state[idx]\n",
    "        return new_state\n",
    "\n",
    "\n",
    "class WeightedRandomJumps(MarkovChain):\n",
    "    def __init__(self, n_cities: int) -> None:\n",
    "        super().__init__(n_cities)\n",
    "\n",
    "    def next_state(self, state: np.ndarray) -> np.ndarray:\n",
    "        n = self.n_cities\n",
    "        probs = get_geometric_probs(n, 1/2)\n",
    "        m = self.rng.choice(n, p=probs) + 1\n",
    "        idxs = self.rng.choice(n, m, replace=False)\n",
    "        \n",
    "        new_state = state.copy()\n",
    "        new_state[idxs] = ~new_state[idxs]\n",
    "        return new_state"
   ]
  },
  {
   "cell_type": "markdown",
   "metadata": {},
   "source": [
    "# Metropolis-Hastings"
   ]
  },
  {
   "cell_type": "code",
   "execution_count": 45,
   "metadata": {},
   "outputs": [],
   "source": [
    "def initalize_random_state(n) :\n",
    "    return np.random.random(n) < 0.5"
   ]
  },
  {
   "cell_type": "code",
   "execution_count": 159,
   "metadata": {},
   "outputs": [],
   "source": [
    "from typing import Optional\n",
    "\n",
    "class MetropolisHastings:\n",
    "    states: list[np.ndarray]\n",
    "    scores: np.ndarray\n",
    "\n",
    "    def __init__(self, n_cities: int, n_chains: int, exploring_chain: MarkovChain, objective_function, states: Optional[list[np.ndarray]] = None):\n",
    "        self.n_cities = n_cities\n",
    "        self.n_chains = n_chains\n",
    "        self.rng = np.random.default_rng()\n",
    "        self.exploring_chain = exploring_chain\n",
    "        self.objective_function = objective_function\n",
    "        \n",
    "        if states is not None:\n",
    "            self.states = states\n",
    "        else:\n",
    "            self.states = [\n",
    "                initalize_random_state(n_cities)\n",
    "                for _ in range(n_chains)\n",
    "            ]\n",
    "\n",
    "        self.states = np.array(self.states, dtype=np.bool_)\n",
    "\n",
    "        self.scores = [\n",
    "            self.objective_function(state)\n",
    "            for state in self.states\n",
    "        ]\n",
    "        self.scores = np.array(self.scores)\n",
    "\n",
    "    def acceptance(self, prev_score, new_score):\n",
    "        return min(np.exp(new_score - prev_score), 1)\n",
    "\n",
    "    def forward(self):\n",
    "        for i, state in enumerate(self.states):\n",
    "            new_state = self.exploring_chain.next_state(state)\n",
    "            new_score = self.objective_function(new_state)\n",
    "            u = self.rng.random()\n",
    "            if u <= self.acceptance(self.scores[i], new_score):\n",
    "                self.states[i] = new_state\n",
    "                self.scores[i] = new_score\n"
   ]
  },
  {
   "cell_type": "markdown",
   "metadata": {},
   "source": [
    "# Solver"
   ]
  },
  {
   "cell_type": "code",
   "execution_count": 160,
   "metadata": {},
   "outputs": [],
   "source": [
    "@jit(nopython=True)\n",
    "def calculate_radius(distance_matrix: np.ndarray, state: np.ndarray) -> float:\n",
    "    return distance_matrix[state].T[state].max() / 2"
   ]
  },
  {
   "cell_type": "code",
   "execution_count": 161,
   "metadata": {},
   "outputs": [],
   "source": [
    "from typing import Callable\n",
    "\n",
    "class Solver:\n",
    "    def __init__(self, populations: np.ndarray, distance_matrix: np.ndarray, exploring_chain_type: type[MarkovChain]):\n",
    "        self.populations = populations\n",
    "        self.distance_matrix = distance_matrix\n",
    "\n",
    "        self.n_cities = len(populations)\n",
    "        self.exploring_chain = exploring_chain_type(n_cities=self.n_cities)\n",
    "        assert self.distance_matrix.shape == (self.n_cities, self.n_cities)\n",
    "\n",
    "    def get_objective_funtion(self, lambda_: float) -> Callable[[np.ndarray], float]:\n",
    "\n",
    "        def objective_function(state: np.ndarray) -> float:\n",
    "            r = calculate_radius(self.distance_matrix, state)\n",
    "            value = np.sum(self.populations, where=state) - lambda_ * self.n_cities * np.pi * r ** 2\n",
    "            return value\n",
    "\n",
    "        return objective_function\n",
    "\n",
    "    def simulate_chains(self, lambda_: float = 0.1, n_chains: int = 10, steps: int = 1000):\n",
    "\n",
    "        mh = MetropolisHastings(\n",
    "            n_cities=self.n_cities,\n",
    "            n_chains=n_chains,\n",
    "            exploring_chain=self.exploring_chain,\n",
    "            objective_function=self.get_objective_funtion(lambda_)\n",
    "        )\n",
    "\n",
    "        best_state = None\n",
    "        best_score = -np.inf\n",
    "\n",
    "        step_best_scores = []\n",
    "        step_best_state_size = []\n",
    "        for _ in range(steps):\n",
    "            mh.forward()\n",
    "            idx = np.argmax(mh.scores)\n",
    "            step_best_scores.append(mh.scores[idx])\n",
    "            step_best_state_size.append(mh.states[idx].sum())\n",
    "            if mh.scores[idx] > best_score:\n",
    "                best_state = mh.states[idx]\n",
    "                best_score = mh.scores[idx]\n",
    "\n",
    "        return {\n",
    "            \"final_states\": mh.states,\n",
    "            \"best_score\": best_score,\n",
    "            \"best_state\": best_state,\n",
    "            \"step_best_scores\": step_best_scores,\n",
    "            \"step_best_state_size\": step_best_state_size\n",
    "        }\n"
   ]
  },
  {
   "cell_type": "markdown",
   "metadata": {},
   "source": [
    "# Example"
   ]
  },
  {
   "cell_type": "code",
   "execution_count": 162,
   "metadata": {},
   "outputs": [],
   "source": [
    "populations = np.random.random(100)\n",
    "positions = np.random.random((100, 2))\n",
    "\n",
    "distance_matrix = np.zeros((100, 100), dtype=np.float32)\n",
    "for i in range(100):\n",
    "    for j in range(i, 100):\n",
    "        distance_matrix[i, j] = distance_matrix[j, i] = np.sum((positions[i] - positions[j]) ** 2) ** 0.5"
   ]
  },
  {
   "cell_type": "code",
   "execution_count": 163,
   "metadata": {},
   "outputs": [
    {
     "data": {
      "text/plain": [
       "0.05597096309830585"
      ]
     },
     "execution_count": 163,
     "metadata": {},
     "output_type": "execute_result"
    }
   ],
   "source": [
    "solver = Solver(populations, distance_matrix, RandomWalk)\n",
    "solver.simulate_chains(1, 100, 10000)[\"best_score\"]"
   ]
  },
  {
   "cell_type": "code",
   "execution_count": 164,
   "metadata": {},
   "outputs": [],
   "source": [
    "import cProfile"
   ]
  },
  {
   "cell_type": "code",
   "execution_count": 167,
   "metadata": {},
   "outputs": [],
   "source": [
    "solver = Solver(populations, distance_matrix, RandomWalk)\n",
    "with cProfile.Profile() as pf:\n",
    "    pf.run('solver.simulate_chains(1, 1000, 1000)[\"best_score\"]')"
   ]
  },
  {
   "cell_type": "code",
   "execution_count": 168,
   "metadata": {},
   "outputs": [
    {
     "name": "stdout",
     "output_type": "stream",
     "text": [
      "         16002359 function calls in 22.585 seconds\n",
      "\n",
      "   Ordered by: cumulative time\n",
      "\n",
      "   ncalls  tottime  percall  cumtime  percall filename:lineno(function)\n",
      "        1    0.000    0.000   22.585   22.585 cProfile.py:93(run)\n",
      "        1    0.000    0.000   22.585   22.585 cProfile.py:98(runctx)\n",
      "        1    0.000    0.000   22.585   22.585 {built-in method builtins.exec}\n",
      "        1    0.000    0.000   22.585   22.585 <string>:1(<module>)\n",
      "        1    0.008    0.008   22.585   22.585 3330448856.py:21(simulate_chains)\n",
      "     1000    1.788    0.002   22.544    0.023 3436739998.py:33(forward)\n",
      "  1001000    2.459    0.000   13.341    0.000 3330448856.py:14(objective_function)\n",
      "  1001000    5.914    0.000    5.914    0.000 3160897994.py:1(calculate_radius)\n",
      "  1000000    1.797    0.000    5.210    0.000 578288408.py:27(next_state)\n",
      "  1001000    0.840    0.000    4.841    0.000 fromnumeric.py:2177(sum)\n",
      "  1001000    1.084    0.000    3.841    0.000 fromnumeric.py:71(_wrapreduction)\n",
      "   990162    2.430    0.000    2.430    0.000 {method 'integers' of 'numpy.random._generator.Generator' objects}\n",
      "  1002000    2.274    0.000    2.274    0.000 {method 'reduce' of 'numpy.ufunc' objects}\n",
      "  1000000    1.119    0.000    1.470    0.000 3436739998.py:30(acceptance)\n",
      "  2000000    1.321    0.000    1.321    0.000 {method 'random' of 'numpy.random._generator.Generator' objects}\n",
      "   990162    0.410    0.000    0.410    0.000 {method 'copy' of 'numpy.ndarray' objects}\n",
      "  1001000    0.394    0.000    0.394    0.000 fromnumeric.py:72(<dictcomp>)\n",
      "  1000000    0.352    0.000    0.352    0.000 {built-in method builtins.min}\n",
      "  1001000    0.160    0.000    0.160    0.000 {built-in method builtins.isinstance}\n",
      "  1001000    0.126    0.000    0.126    0.000 fromnumeric.py:2172(_sum_dispatcher)\n",
      "  1001000    0.093    0.000    0.093    0.000 {method 'items' of 'dict' objects}\n",
      "        1    0.000    0.000    0.018    0.018 3436739998.py:7(__init__)\n",
      "        1    0.000    0.000    0.013    0.013 3436739998.py:24(<listcomp>)\n",
      "     1000    0.003    0.000    0.007    0.000 fromnumeric.py:1140(argmax)\n",
      "     1000    0.001    0.000    0.007    0.000 {method 'sum' of 'numpy.ndarray' objects}\n",
      "     1000    0.001    0.000    0.006    0.000 _methods.py:47(_sum)\n",
      "     1000    0.002    0.000    0.005    0.000 fromnumeric.py:53(_wrapfunc)\n",
      "        1    0.000    0.000    0.004    0.004 3436739998.py:17(<listcomp>)\n",
      "     1000    0.002    0.000    0.004    0.000 83424635.py:1(initalize_random_state)\n",
      "     1000    0.002    0.000    0.002    0.000 {method 'argmax' of 'numpy.ndarray' objects}\n",
      "     1000    0.002    0.000    0.002    0.000 {method 'random' of 'numpy.random.mtrand.RandomState' objects}\n",
      "     1000    0.001    0.000    0.001    0.000 {built-in method builtins.getattr}\n",
      "     2000    0.000    0.000    0.000    0.000 {method 'append' of 'list' objects}\n",
      "        2    0.000    0.000    0.000    0.000 {built-in method numpy.array}\n",
      "     1000    0.000    0.000    0.000    0.000 fromnumeric.py:1136(_argmax_dispatcher)\n",
      "        1    0.000    0.000    0.000    0.000 {numpy.random._generator.default_rng}\n",
      "        1    0.000    0.000    0.000    0.000 contextlib.py:76(inner)\n",
      "        1    0.000    0.000    0.000    0.000 {function SeedSequence.generate_state at 0x7aad857877f0}\n",
      "        2    0.000    0.000    0.000    0.000 _ufunc_config.py:33(seterr)\n",
      "        1    0.000    0.000    0.000    0.000 _ufunc_config.py:430(__enter__)\n",
      "        1    0.000    0.000    0.000    0.000 random.py:826(getrandbits)\n",
      "        1    0.000    0.000    0.000    0.000 _ufunc_config.py:435(__exit__)\n",
      "        2    0.000    0.000    0.000    0.000 _ufunc_config.py:132(geterr)\n",
      "        1    0.000    0.000    0.000    0.000 {built-in method posix.urandom}\n",
      "        1    0.000    0.000    0.000    0.000 abc.py:117(__instancecheck__)\n",
      "        1    0.000    0.000    0.000    0.000 3330448856.py:12(get_objective_funtion)\n",
      "        2    0.000    0.000    0.000    0.000 {built-in method numpy.seterrobj}\n",
      "        1    0.000    0.000    0.000    0.000 {method 'disable' of '_lsprof.Profiler' objects}\n",
      "        4    0.000    0.000    0.000    0.000 {built-in method numpy.geterrobj}\n",
      "        1    0.000    0.000    0.000    0.000 {built-in method _abc._abc_instancecheck}\n",
      "        1    0.000    0.000    0.000    0.000 multiarray.py:153(concatenate)\n",
      "        1    0.000    0.000    0.000    0.000 {built-in method from_bytes}\n",
      "        1    0.000    0.000    0.000    0.000 {method 'enable' of '_lsprof.Profiler' objects}\n",
      "        1    0.000    0.000    0.000    0.000 contextlib.py:63(_recreate_cm)\n",
      "\n",
      "\n"
     ]
    }
   ],
   "source": [
    "pf.print_stats(sort=\"cumtime\")"
   ]
  },
  {
   "cell_type": "code",
   "execution_count": null,
   "metadata": {},
   "outputs": [
    {
     "name": "stdout",
     "output_type": "stream",
     "text": [
      "1.44 µs ± 96.1 ns per loop (mean ± std. dev. of 7 runs, 1,000,000 loops each)\n"
     ]
    }
   ],
   "source": [
    "%%timeit\n",
    "np.random.random(100)"
   ]
  },
  {
   "cell_type": "code",
   "execution_count": null,
   "metadata": {},
   "outputs": [
    {
     "name": "stdout",
     "output_type": "stream",
     "text": [
      "1.07 µs ± 34.5 ns per loop (mean ± std. dev. of 7 runs, 1,000,000 loops each)\n"
     ]
    }
   ],
   "source": [
    "%%timeit\n",
    "rgn.random(100)"
   ]
  },
  {
   "cell_type": "code",
   "execution_count": null,
   "metadata": {},
   "outputs": [],
   "source": [
    "# Generating 1 random int in a range takes 6.61 mirco sec\n",
    "# Generating 20_000 random int in a range takes 20.1 micro sec"
   ]
  },
  {
   "cell_type": "code",
   "execution_count": null,
   "metadata": {},
   "outputs": [],
   "source": []
  }
 ],
 "metadata": {
  "kernelspec": {
   "display_name": "mio",
   "language": "python",
   "name": "python3"
  },
  "language_info": {
   "codemirror_mode": {
    "name": "ipython",
    "version": 3
   },
   "file_extension": ".py",
   "mimetype": "text/x-python",
   "name": "python",
   "nbconvert_exporter": "python",
   "pygments_lexer": "ipython3",
   "version": "3.10.13"
  }
 },
 "nbformat": 4,
 "nbformat_minor": 2
}
