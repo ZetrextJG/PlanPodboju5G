{
 "cells": [
  {
   "cell_type": "code",
   "execution_count": 70,
   "metadata": {},
   "outputs": [],
   "source": [
    "import numpy as np\n",
    "import pandas as pd"
   ]
  },
  {
   "cell_type": "markdown",
   "metadata": {},
   "source": [
    "# Exploring Chain "
   ]
  },
  {
   "cell_type": "code",
   "execution_count": 71,
   "metadata": {},
   "outputs": [],
   "source": [
    "from abc import ABC, abstractmethod\n",
    "from functools import lru_cache\n",
    "\n",
    "\n",
    "@lru_cache\n",
    "def get_geometric_probs(n: int, p: int) -> np.ndarray:\n",
    "    vector = np.array([p]) ** np.arange(1, n+1)\n",
    "    return vector / np.sum(vector)\n",
    "\n",
    "\n",
    "class MarkovChain(ABC):\n",
    "    def __init__(self, n_cities: int) -> None:\n",
    "        self.n_cities = n_cities\n",
    "        assert self.n_cities > 0\n",
    "\n",
    "    @abstractmethod\n",
    "    def next_state(self, state: np.ndarray) -> np.ndarray:\n",
    "        ...\n",
    "\n",
    "\n",
    "class RandomWalk(MarkovChain):\n",
    "    def __init__(self, n_cities: int) -> None:\n",
    "        super().__init__(n_cities)\n",
    "\n",
    "    def next_state(self, state: np.ndarray) -> np.ndarray:\n",
    "        u = np.random.random()\n",
    "        if u < 1 / (self.n_cities + 1):\n",
    "            return state\n",
    "\n",
    "        idx = np.random.randint(n)\n",
    "        new_state = state.copy()\n",
    "        new_state[idx] = ~new_state[idx]\n",
    "        return new_state\n",
    "\n",
    "\n",
    "class WeightedRandomJumps(MarkovChain):\n",
    "    def __init__(self, n_cities: int) -> None:\n",
    "        super().__init__(n_cities)\n",
    "\n",
    "    def next_state(self, state: np.ndarray) -> np.ndarray:\n",
    "        n = self.n_cities\n",
    "        probs = get_geometric_probs(n, 1/2)\n",
    "        m = np.random.choice(np.arange(1, n+1), p=probs)\n",
    "        idxs = np.random.choice(np.arange(n), m, replace=False)\n",
    "        \n",
    "        new_state = state.copy()\n",
    "        new_state[idxs] = ~new_state[idxs]\n",
    "        return new_state"
   ]
  },
  {
   "cell_type": "markdown",
   "metadata": {},
   "source": [
    "# Metropolis-Hastings"
   ]
  },
  {
   "cell_type": "code",
   "execution_count": 72,
   "metadata": {},
   "outputs": [],
   "source": [
    "def initalize_random_state(n) :\n",
    "    return np.random.random(n) < 0.5"
   ]
  },
  {
   "cell_type": "code",
   "execution_count": 73,
   "metadata": {},
   "outputs": [],
   "source": [
    "from typing import Optional\n",
    "\n",
    "class MetropolisHastings:\n",
    "    states: list[np.ndarray]\n",
    "    scores: np.ndarray\n",
    "\n",
    "    def __init__(self, n_cities: int, n_chains: int, exploring_chain: MarkovChain, objective_function, states: Optional[list[np.ndarray]] = None):\n",
    "        self.exploring_chain = exploring_chain\n",
    "        self.objective_function = objective_function\n",
    "        \n",
    "        if states is not None:\n",
    "            self.states = states\n",
    "        else:\n",
    "            self.states = [\n",
    "                initalize_random_state(n_cities)\n",
    "                for _ in range(n_chains)\n",
    "            ]\n",
    "\n",
    "        self.scores = [\n",
    "            self.objective_function(state)\n",
    "            for state in self.states\n",
    "        ]\n",
    "        self.scores = np.array(self.scores)\n",
    "\n",
    "    def acceptance(self, prev_score, new_score):\n",
    "        return np.clip(np.exp(new_score - prev_score), 0, 1)\n",
    "\n",
    "    def forward(self):\n",
    "        for i, state in enumerate(self.states):\n",
    "            new_state = self.exploring_chain.next_state(state)\n",
    "            new_score = self.objective_function(new_state)\n",
    "            u = np.random.random()\n",
    "            if u <= self.acceptance(self.scores[i], new_score):\n",
    "                self.states[i] = new_state\n",
    "                self.scores[i] = new_score\n",
    "\n"
   ]
  },
  {
   "cell_type": "markdown",
   "metadata": {},
   "source": [
    "# Solver"
   ]
  },
  {
   "cell_type": "code",
   "execution_count": 74,
   "metadata": {},
   "outputs": [],
   "source": [
    "from typing import Callable\n",
    "\n",
    "class Solver:\n",
    "    def __init__(self, populations: np.ndarray, distance_matrix: np.ndarray, exploring_chain_type: type[MarkovChain]):\n",
    "        self.populations = populations\n",
    "        self.distance_matrix = distance_matrix\n",
    "\n",
    "        self.n_cities = len(populations)\n",
    "        self.exploring_chain = exploring_chain_type(n_cities=self.n_cities)\n",
    "        assert self.distance_matrix.shape == (self.n_cities, self.n_cities)\n",
    "\n",
    "    # TODO: Maybe use jit for that\n",
    "    def get_surrounding_radius(self, state: np.ndarray):\n",
    "        return self.distance_matrix[state].T[state].max() / 2\n",
    "\n",
    "    def get_objective_funtion(self, lambda_: float) -> Callable[[np.ndarray], float]:\n",
    "\n",
    "        def objective_function(state: np.ndarray) -> float:\n",
    "            r = self.get_surrounding_radius(state)\n",
    "            value = np.sum(self.populations[state]) - lambda_ * self.n_cities * np.pi * r ** 2\n",
    "            return value\n",
    "\n",
    "        return objective_function\n",
    "\n",
    "    def simulate_chains(self, lambda_: float = 0.1, n_chains: int = 10, steps: int = 1000):\n",
    "\n",
    "        mh = MetropolisHastings(\n",
    "            n_cities=self.n_cities,\n",
    "            n_chains=n_chains,\n",
    "            exploring_chain=WeightedRandomJumps(self.n_cities),\n",
    "            objective_function=self.get_objective_funtion(lambda_)\n",
    "        )\n",
    "\n",
    "        best_state = None\n",
    "        best_score = -np.inf\n",
    "\n",
    "        step_best_scores = []\n",
    "        step_best_state_size = []\n",
    "        for _ in range(steps):\n",
    "            mh.forward()\n",
    "            idx = np.argmax(mh.scores)\n",
    "            step_best_scores.append(mh.scores[idx])\n",
    "            step_best_state_size.append(mh.states[idx].sum())\n",
    "            if mh.scores[idx] > best_score:\n",
    "                best_state = mh.states[idx]\n",
    "                best_score = mh.scores[idx]\n",
    "\n",
    "        return {\n",
    "            \"final_states\": mh.states,\n",
    "            \"best_score\": best_score,\n",
    "            \"best_state\": best_state,\n",
    "            \"step_best_scores\": step_best_scores,\n",
    "            \"step_best_state_size\": step_best_state_size\n",
    "        }\n"
   ]
  },
  {
   "cell_type": "markdown",
   "metadata": {},
   "source": [
    "# Example"
   ]
  },
  {
   "cell_type": "code",
   "execution_count": 75,
   "metadata": {},
   "outputs": [],
   "source": [
    "populations = np.random.random(100)\n",
    "positions = np.random.random((100, 2))\n",
    "\n",
    "distance_matrix = np.zeros((100, 100), dtype=np.float32)\n",
    "for i in range(100):\n",
    "    for j in range(i, 100):\n",
    "        distance_matrix[i, j] = distance_matrix[j, i] = np.sum((positions[i] - positions[j]) ** 2) ** 0.5"
   ]
  },
  {
   "cell_type": "code",
   "execution_count": 76,
   "metadata": {},
   "outputs": [
    {
     "ename": "KeyboardInterrupt",
     "evalue": "",
     "output_type": "error",
     "traceback": [
      "\u001b[0;31m---------------------------------------------------------------------------\u001b[0m",
      "\u001b[0;31mKeyboardInterrupt\u001b[0m                         Traceback (most recent call last)",
      "Cell \u001b[0;32mIn[76], line 2\u001b[0m\n\u001b[1;32m      1\u001b[0m solver \u001b[38;5;241m=\u001b[39m Solver(populations, distance_matrix, RandomWalk)\n\u001b[0;32m----> 2\u001b[0m \u001b[43msolver\u001b[49m\u001b[38;5;241;43m.\u001b[39;49m\u001b[43msimulate_chains\u001b[49m\u001b[43m(\u001b[49m\u001b[38;5;241;43m1\u001b[39;49m\u001b[43m,\u001b[49m\u001b[43m \u001b[49m\u001b[38;5;241;43m100\u001b[39;49m\u001b[43m,\u001b[49m\u001b[43m \u001b[49m\u001b[38;5;241;43m20_000\u001b[39;49m\u001b[43m)\u001b[49m[\u001b[38;5;124m\"\u001b[39m\u001b[38;5;124mbest_score\u001b[39m\u001b[38;5;124m\"\u001b[39m]\n",
      "Cell \u001b[0;32mIn[74], line 40\u001b[0m, in \u001b[0;36mSolver.simulate_chains\u001b[0;34m(self, lambda_, n_chains, steps)\u001b[0m\n\u001b[1;32m     38\u001b[0m step_best_state_size \u001b[38;5;241m=\u001b[39m []\n\u001b[1;32m     39\u001b[0m \u001b[38;5;28;01mfor\u001b[39;00m _ \u001b[38;5;129;01min\u001b[39;00m \u001b[38;5;28mrange\u001b[39m(steps):\n\u001b[0;32m---> 40\u001b[0m     \u001b[43mmh\u001b[49m\u001b[38;5;241;43m.\u001b[39;49m\u001b[43mforward\u001b[49m\u001b[43m(\u001b[49m\u001b[43m)\u001b[49m\n\u001b[1;32m     41\u001b[0m     idx \u001b[38;5;241m=\u001b[39m np\u001b[38;5;241m.\u001b[39margmax(mh\u001b[38;5;241m.\u001b[39mscores)\n\u001b[1;32m     42\u001b[0m     step_best_scores\u001b[38;5;241m.\u001b[39mappend(mh\u001b[38;5;241m.\u001b[39mscores[idx])\n",
      "Cell \u001b[0;32mIn[73], line 30\u001b[0m, in \u001b[0;36mMetropolisHastings.forward\u001b[0;34m(self)\u001b[0m\n\u001b[1;32m     28\u001b[0m \u001b[38;5;28;01mdef\u001b[39;00m \u001b[38;5;21mforward\u001b[39m(\u001b[38;5;28mself\u001b[39m):\n\u001b[1;32m     29\u001b[0m     \u001b[38;5;28;01mfor\u001b[39;00m i, state \u001b[38;5;129;01min\u001b[39;00m \u001b[38;5;28menumerate\u001b[39m(\u001b[38;5;28mself\u001b[39m\u001b[38;5;241m.\u001b[39mstates):\n\u001b[0;32m---> 30\u001b[0m         new_state \u001b[38;5;241m=\u001b[39m \u001b[38;5;28;43mself\u001b[39;49m\u001b[38;5;241;43m.\u001b[39;49m\u001b[43mexploring_chain\u001b[49m\u001b[38;5;241;43m.\u001b[39;49m\u001b[43mnext_state\u001b[49m\u001b[43m(\u001b[49m\u001b[43mstate\u001b[49m\u001b[43m)\u001b[49m\n\u001b[1;32m     31\u001b[0m         new_score \u001b[38;5;241m=\u001b[39m \u001b[38;5;28mself\u001b[39m\u001b[38;5;241m.\u001b[39mobjective_function(new_state)\n\u001b[1;32m     32\u001b[0m         u \u001b[38;5;241m=\u001b[39m np\u001b[38;5;241m.\u001b[39mrandom\u001b[38;5;241m.\u001b[39mrandom()\n",
      "Cell \u001b[0;32mIn[71], line 43\u001b[0m, in \u001b[0;36mWeightedRandomJumps.next_state\u001b[0;34m(self, state)\u001b[0m\n\u001b[1;32m     41\u001b[0m n \u001b[38;5;241m=\u001b[39m \u001b[38;5;28mself\u001b[39m\u001b[38;5;241m.\u001b[39mn_cities\n\u001b[1;32m     42\u001b[0m probs \u001b[38;5;241m=\u001b[39m get_geometric_probs(n, \u001b[38;5;241m1\u001b[39m\u001b[38;5;241m/\u001b[39m\u001b[38;5;241m2\u001b[39m)\n\u001b[0;32m---> 43\u001b[0m m \u001b[38;5;241m=\u001b[39m \u001b[43mnp\u001b[49m\u001b[38;5;241;43m.\u001b[39;49m\u001b[43mrandom\u001b[49m\u001b[38;5;241;43m.\u001b[39;49m\u001b[43mchoice\u001b[49m\u001b[43m(\u001b[49m\u001b[43mnp\u001b[49m\u001b[38;5;241;43m.\u001b[39;49m\u001b[43marange\u001b[49m\u001b[43m(\u001b[49m\u001b[38;5;241;43m1\u001b[39;49m\u001b[43m,\u001b[49m\u001b[43m \u001b[49m\u001b[43mn\u001b[49m\u001b[38;5;241;43m+\u001b[39;49m\u001b[38;5;241;43m1\u001b[39;49m\u001b[43m)\u001b[49m\u001b[43m,\u001b[49m\u001b[43m \u001b[49m\u001b[43mp\u001b[49m\u001b[38;5;241;43m=\u001b[39;49m\u001b[43mprobs\u001b[49m\u001b[43m)\u001b[49m\n\u001b[1;32m     44\u001b[0m idxs \u001b[38;5;241m=\u001b[39m np\u001b[38;5;241m.\u001b[39mrandom\u001b[38;5;241m.\u001b[39mchoice(np\u001b[38;5;241m.\u001b[39marange(n), m, replace\u001b[38;5;241m=\u001b[39m\u001b[38;5;28;01mFalse\u001b[39;00m)\n\u001b[1;32m     46\u001b[0m new_state \u001b[38;5;241m=\u001b[39m state\u001b[38;5;241m.\u001b[39mcopy()\n",
      "\u001b[0;31mKeyboardInterrupt\u001b[0m: "
     ]
    }
   ],
   "source": [
    "solver = Solver(populations, distance_matrix, RandomWalk)\n",
    "solver.simulate_chains(1, 100, 20_000)[\"best_score\"]"
   ]
  },
  {
   "cell_type": "code",
   "execution_count": null,
   "metadata": {},
   "outputs": [],
   "source": []
  }
 ],
 "metadata": {
  "kernelspec": {
   "display_name": "mio",
   "language": "python",
   "name": "python3"
  },
  "language_info": {
   "codemirror_mode": {
    "name": "ipython",
    "version": 3
   },
   "file_extension": ".py",
   "mimetype": "text/x-python",
   "name": "python",
   "nbconvert_exporter": "python",
   "pygments_lexer": "ipython3",
   "version": "3.10.13"
  }
 },
 "nbformat": 4,
 "nbformat_minor": 2
}
