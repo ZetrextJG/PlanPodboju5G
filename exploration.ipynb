{
 "cells": [
  {
   "cell_type": "code",
   "execution_count": 105,
   "metadata": {
    "ExecuteTime": {
     "end_time": "2024-06-04T12:34:27.343036Z",
     "start_time": "2024-06-04T12:34:27.341011100Z"
    }
   },
   "outputs": [],
   "source": [
    "import numpy as np\n",
    "import pandas as pd\n",
    "from matplotlib import pyplot as plt\n",
    "\n",
    "from src import Solver, RandomWalk, WeightedRandomJumps, bit_random_state, uniform_random_states, heuristic_states"
   ]
  },
  {
   "cell_type": "markdown",
   "metadata": {},
   "source": [
    "# Example"
   ]
  },
  {
   "cell_type": "code",
   "execution_count": 2,
   "metadata": {},
   "outputs": [],
   "source": [
    "populations = np.random.random(100)\n",
    "positions = np.random.random((100, 2))\n",
    "\n",
    "distance_matrix = np.zeros((100, 100), dtype=np.float32)\n",
    "for i in range(100):\n",
    "    for j in range(i, 100):\n",
    "        distance_matrix[i, j] = distance_matrix[j, i] = np.sum((positions[i] - positions[j]) ** 2) ** 0.5"
   ]
  },
  {
   "cell_type": "code",
   "execution_count": 3,
   "metadata": {},
   "outputs": [
    {
     "data": {
      "text/plain": [
       "-6.096413691368861"
      ]
     },
     "execution_count": 3,
     "metadata": {},
     "output_type": "execute_result"
    }
   ],
   "source": [
    "solver = Solver(populations, distance_matrix, RandomWalk)\n",
    "solver.simulate_chains(1, 100, 10_000)[\"best_score\"]"
   ]
  },
  {
   "cell_type": "markdown",
   "metadata": {},
   "source": [
    "# Example 2"
   ]
  },
  {
   "cell_type": "code",
   "execution_count": 4,
   "metadata": {},
   "outputs": [
    {
     "data": {
      "text/plain": [
       "3.025854324258323"
      ]
     },
     "execution_count": 4,
     "metadata": {},
     "output_type": "execute_result"
    }
   ],
   "source": [
    "solver = Solver(populations, distance_matrix, RandomWalk)\n",
    "n_cities = 100\n",
    "states = heuristic_states(n_cities, n_cities) # Special case because we start at different city each chain\n",
    "solver.simulate_chains(1, 100, 10_000, states=states)[\"best_score\"]"
   ]
  },
  {
   "cell_type": "code",
   "execution_count": 129,
   "metadata": {
    "ExecuteTime": {
     "end_time": "2024-06-04T13:00:16.684448100Z",
     "start_time": "2024-06-04T12:56:28.688075Z"
    }
   },
   "outputs": [
    {
     "data": {
      "text/plain": "  0%|          | 0/100 [00:00<?, ?it/s]",
      "application/vnd.jupyter.widget-view+json": {
       "version_major": 2,
       "version_minor": 0,
       "model_id": "ffb2508eef374a2e8779bd241ab94f05"
      }
     },
     "metadata": {},
     "output_type": "display_data"
    },
    {
     "name": "stdout",
     "output_type": "stream",
     "text": [
      "0.01\n"
     ]
    },
    {
     "ename": "KeyboardInterrupt",
     "evalue": "",
     "output_type": "error",
     "traceback": [
      "\u001B[1;31m---------------------------------------------------------------------------\u001B[0m",
      "\u001B[1;31mKeyboardInterrupt\u001B[0m                         Traceback (most recent call last)",
      "Cell \u001B[1;32mIn[129], line 22\u001B[0m\n\u001B[0;32m     20\u001B[0m         distance_matrix[i, j] \u001B[38;5;241m=\u001B[39m distance_matrix[j, i] \u001B[38;5;241m=\u001B[39m np\u001B[38;5;241m.\u001B[39msum((positions[i] \u001B[38;5;241m-\u001B[39m positions[j]) \u001B[38;5;241m*\u001B[39m\u001B[38;5;241m*\u001B[39m \u001B[38;5;241m2\u001B[39m) \u001B[38;5;241m*\u001B[39m\u001B[38;5;241m*\u001B[39m \u001B[38;5;241m0.5\u001B[39m\n\u001B[0;32m     21\u001B[0m solver \u001B[38;5;241m=\u001B[39m Solver(populations, distance_matrix, RandomWalk)\n\u001B[1;32m---> 22\u001B[0m res \u001B[38;5;241m=\u001B[39m \u001B[43msolver\u001B[49m\u001B[38;5;241;43m.\u001B[39;49m\u001B[43msimulate_chains\u001B[49m\u001B[43m(\u001B[49m\u001B[43mlambda_\u001B[49m\u001B[38;5;241;43m=\u001B[39;49m\u001B[43m \u001B[49m\u001B[43mlambdate\u001B[49m\u001B[43m,\u001B[49m\u001B[43m \u001B[49m\u001B[43mn_chains\u001B[49m\u001B[38;5;241;43m=\u001B[39;49m\u001B[38;5;241;43m100\u001B[39;49m\u001B[43m,\u001B[49m\u001B[43m \u001B[49m\u001B[43msteps\u001B[49m\u001B[38;5;241;43m=\u001B[39;49m\u001B[43m \u001B[49m\u001B[43mn_steps\u001B[49m\u001B[43m,\u001B[49m\u001B[43m \u001B[49m\u001B[43mstates\u001B[49m\u001B[38;5;241;43m=\u001B[39;49m\u001B[43mstates\u001B[49m\u001B[43m)\u001B[49m\n\u001B[0;32m     24\u001B[0m lambdas_to_df\u001B[38;5;241m.\u001B[39mappend(lambdate)\n\u001B[0;32m     25\u001B[0m scores_to_df\u001B[38;5;241m.\u001B[39mappend(res[\u001B[38;5;124m\"\u001B[39m\u001B[38;5;124mbest_score\u001B[39m\u001B[38;5;124m\"\u001B[39m])\n",
      "File \u001B[1;32m~\\PycharmProjects\\PlanPodboju5G\\src.py:185\u001B[0m, in \u001B[0;36mSolver.simulate_chains\u001B[1;34m(self, lambda_, n_chains, steps, states)\u001B[0m\n\u001B[0;32m    183\u001B[0m step_best_state_size \u001B[38;5;241m=\u001B[39m []\n\u001B[0;32m    184\u001B[0m \u001B[38;5;28;01mfor\u001B[39;00m _ \u001B[38;5;129;01min\u001B[39;00m \u001B[38;5;28mrange\u001B[39m(steps):\n\u001B[1;32m--> 185\u001B[0m     \u001B[43mmh\u001B[49m\u001B[38;5;241;43m.\u001B[39;49m\u001B[43mforward\u001B[49m\u001B[43m(\u001B[49m\u001B[43m)\u001B[49m\n\u001B[0;32m    186\u001B[0m     idx \u001B[38;5;241m=\u001B[39m np\u001B[38;5;241m.\u001B[39margmax(mh\u001B[38;5;241m.\u001B[39mscores)\n\u001B[0;32m    187\u001B[0m     step_best_scores\u001B[38;5;241m.\u001B[39mappend(mh\u001B[38;5;241m.\u001B[39mscores[idx])\n",
      "File \u001B[1;32m~\\PycharmProjects\\PlanPodboju5G\\src.py:131\u001B[0m, in \u001B[0;36mMetropolisHastings.forward\u001B[1;34m(self)\u001B[0m\n\u001B[0;32m    129\u001B[0m \u001B[38;5;28;01mdef\u001B[39;00m \u001B[38;5;21mforward\u001B[39m(\u001B[38;5;28mself\u001B[39m):\n\u001B[0;32m    130\u001B[0m     \u001B[38;5;28;01mfor\u001B[39;00m i, state \u001B[38;5;129;01min\u001B[39;00m \u001B[38;5;28menumerate\u001B[39m(\u001B[38;5;28mself\u001B[39m\u001B[38;5;241m.\u001B[39mstates):\n\u001B[1;32m--> 131\u001B[0m         new_state \u001B[38;5;241m=\u001B[39m \u001B[38;5;28;43mself\u001B[39;49m\u001B[38;5;241;43m.\u001B[39;49m\u001B[43mexploring_chain\u001B[49m\u001B[38;5;241;43m.\u001B[39;49m\u001B[43mnext_state\u001B[49m\u001B[43m(\u001B[49m\u001B[43mstate\u001B[49m\u001B[43m)\u001B[49m\n\u001B[0;32m    132\u001B[0m         new_score \u001B[38;5;241m=\u001B[39m \u001B[38;5;28mself\u001B[39m\u001B[38;5;241m.\u001B[39mobjective_function(new_state)\n\u001B[0;32m    133\u001B[0m         u \u001B[38;5;241m=\u001B[39m \u001B[38;5;28mself\u001B[39m\u001B[38;5;241m.\u001B[39mrng\u001B[38;5;241m.\u001B[39mrandom()\n",
      "File \u001B[1;32m~\\PycharmProjects\\PlanPodboju5G\\src.py:44\u001B[0m, in \u001B[0;36mRandomWalk.next_state\u001B[1;34m(self, state)\u001B[0m\n\u001B[0;32m     41\u001B[0m     \u001B[38;5;28;01mreturn\u001B[39;00m state\n\u001B[0;32m     43\u001B[0m idx \u001B[38;5;241m=\u001B[39m \u001B[38;5;28mself\u001B[39m\u001B[38;5;241m.\u001B[39mrng\u001B[38;5;241m.\u001B[39mintegers(\u001B[38;5;241m0\u001B[39m, \u001B[38;5;28mself\u001B[39m\u001B[38;5;241m.\u001B[39mn_cities, endpoint\u001B[38;5;241m=\u001B[39m\u001B[38;5;28;01mFalse\u001B[39;00m)\n\u001B[1;32m---> 44\u001B[0m new_state \u001B[38;5;241m=\u001B[39m state\u001B[38;5;241m.\u001B[39mcopy()\n\u001B[0;32m     45\u001B[0m new_state[idx] \u001B[38;5;241m=\u001B[39m \u001B[38;5;241m~\u001B[39mnew_state[idx]\n\u001B[0;32m     46\u001B[0m \u001B[38;5;28;01mif\u001B[39;00m \u001B[38;5;28mself\u001B[39m\u001B[38;5;241m.\u001B[39mvalidate_state(new_state):\n",
      "\u001B[1;31mKeyboardInterrupt\u001B[0m: "
     ]
    }
   ],
   "source": [
    "from tqdm.auto import tqdm\n",
    "lambdas = np.linspace(0.01, 1.5, 100)\n",
    "n_cities = 100\n",
    "n_steps = 1000\n",
    "n_iter = 100\n",
    "states = heuristic_states(n_cities, n_cities) # Special case because we start at different city each chain\n",
    "\n",
    "lambdas_to_df =[]\n",
    "scores_to_df = []\n",
    "nb_states_to_df = []\n",
    "populations_to_df = []\n",
    "\n",
    "for lambdate in tqdm(lambdas):\n",
    "    for _ in range(n_iter):\n",
    "        populations = np.random.random(100)\n",
    "        positions = np.random.random((100, 2))\n",
    "        distance_matrix = np.zeros((100, 100), dtype=np.float32)\n",
    "        for i in range(100):\n",
    "            for j in range(i, 100):\n",
    "                distance_matrix[i, j] = distance_matrix[j, i] = np.sum((positions[i] - positions[j]) ** 2) ** 0.5\n",
    "        solver = Solver(populations, distance_matrix, RandomWalk)\n",
    "        res = solver.simulate_chains(lambda_= lambdate, n_chains=100, steps= n_steps, states=states)\n",
    "\n",
    "        lambdas_to_df.append(lambdate)\n",
    "        scores_to_df.append(res[\"best_score\"])\n",
    "        nb_states_to_df.append(res[\"best_state\"].sum())\n",
    "        populations_to_df.append(populations[res[\"best_state\"]].sum())\n",
    "    print(lambdate)\n",
    "\n",
    "lambdas_res_df = pd.DataFrame({\"lambda\": lambdas_to_df, \"score\": scores_to_df, \"nb_states\": nb_states_to_df, \"populations\": populations_to_df})\n",
    "#sabe to csv\n",
    "lambdas_res_df.to_csv(\"lambdas_res_df.csv\", index=False)\n"
   ]
  },
  {
   "cell_type": "code",
   "execution_count": null,
   "outputs": [],
   "source": [],
   "metadata": {
    "collapsed": false
   }
  }
 ],
 "metadata": {
  "kernelspec": {
   "display_name": "mio",
   "language": "python",
   "name": "python3"
  },
  "language_info": {
   "codemirror_mode": {
    "name": "ipython",
    "version": 3
   },
   "file_extension": ".py",
   "mimetype": "text/x-python",
   "name": "python",
   "nbconvert_exporter": "python",
   "pygments_lexer": "ipython3",
   "version": "3.10.13"
  }
 },
 "nbformat": 4,
 "nbformat_minor": 2
}
