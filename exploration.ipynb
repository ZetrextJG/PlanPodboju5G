{
 "cells": [
  {
   "cell_type": "code",
   "execution_count": 16,
   "metadata": {},
   "outputs": [
    {
     "name": "stderr",
     "output_type": "stream",
     "text": [
      "/tmp/ipykernel_12459/1640478239.py:2: DeprecationWarning: \n",
      "Pyarrow will become a required dependency of pandas in the next major release of pandas (pandas 3.0),\n",
      "(to allow more performant data types, such as the Arrow string type, and better interoperability with other libraries)\n",
      "but was not found to be installed on your system.\n",
      "If this would cause problems for you,\n",
      "please provide us feedback at https://github.com/pandas-dev/pandas/issues/54466\n",
      "        \n",
      "  import pandas as pd\n"
     ]
    }
   ],
   "source": [
    "import numpy as np\n",
    "import pandas as pd\n",
    "\n",
    "raw_distance_matrix = np.load(\"./data/distances.npy\")"
   ]
  },
  {
   "cell_type": "code",
   "execution_count": 3,
   "metadata": {},
   "outputs": [],
   "source": [
    "distance_matrix = raw_distance_matrix / raw_distance_matrix.max()\n",
    "distance_matrix = distance_matrix[:10, :10]"
   ]
  },
  {
   "cell_type": "code",
   "execution_count": 4,
   "metadata": {},
   "outputs": [],
   "source": [
    "n = len(distance_matrix)"
   ]
  },
  {
   "cell_type": "code",
   "execution_count": 5,
   "metadata": {},
   "outputs": [],
   "source": [
    "# TODO: Maybe use jit for that\n",
    "def get_surrounding_radius(selected_cities: np.ndarray):\n",
    "    return distance_matrix[selected_cities].T[selected_cities].max() / 2"
   ]
  },
  {
   "cell_type": "code",
   "execution_count": 6,
   "metadata": {},
   "outputs": [],
   "source": [
    "selected_cites = np.random.random(n) < 0.5"
   ]
  },
  {
   "cell_type": "code",
   "execution_count": 7,
   "metadata": {},
   "outputs": [
    {
     "data": {
      "text/plain": [
       "0.3110310435295105"
      ]
     },
     "execution_count": 7,
     "metadata": {},
     "output_type": "execute_result"
    }
   ],
   "source": [
    "get_surrounding_radius(selected_cites)"
   ]
  },
  {
   "cell_type": "code",
   "execution_count": 47,
   "metadata": {},
   "outputs": [],
   "source": [
    "def initalize_random_state(n) :\n",
    "    return np.random.random(n) < 0.5"
   ]
  },
  {
   "cell_type": "code",
   "execution_count": 43,
   "metadata": {},
   "outputs": [],
   "source": [
    "from typing import Protocol\n",
    "from functools import lru_cache\n",
    "\n",
    "\n",
    "@lru_cache\n",
    "def get_geometric_probs(n: int, p: int) -> np.ndarray:\n",
    "    vector = np.array([p]) ** np.arange(1, n+1)\n",
    "    return vector / np.sum(vector)\n",
    "\n",
    "\n",
    "class MarkovChain(Protocol):\n",
    "    @staticmethod\n",
    "    def next_state(state: np.ndarray) -> np.ndarray:\n",
    "        ...\n",
    "\n",
    "\n",
    "class RandomWalk(MarkovChain):\n",
    "    @staticmethod\n",
    "    def next_state(state: np.ndarray) -> np.ndarray:\n",
    "        u = np.random.random()\n",
    "        if u < 1 / (n + 1):\n",
    "            return state\n",
    "\n",
    "        idx = np.random.randint(n)\n",
    "        new_state = state.copy()\n",
    "        new_state[idx] = ~new_state[idx]\n",
    "        return new_state\n",
    "\n",
    "\n",
    "class WeightedRandomJumps(MarkovChain):\n",
    "\n",
    "    @staticmethod\n",
    "    def next_state(state: np.ndarray) -> np.ndarray:\n",
    "        n = len(state)\n",
    "        probs = get_geometric_probs(n, 1/2)\n",
    "        m = np.random.choice(np.arange(1, n+1), p=probs)\n",
    "        idxs = np.random.choice(np.arange(n), m, replace=False)\n",
    "        \n",
    "        new_state = state.copy()\n",
    "        new_state[idxs] = ~new_state[idxs]\n",
    "        return new_state"
   ]
  },
  {
   "cell_type": "code",
   "execution_count": 46,
   "metadata": {},
   "outputs": [],
   "source": [
    "def create_objective_function(beta: float = 1):\n",
    "    def objective_function(state: np.ndarray):\n",
    "        r = get_surrounding_radius(state)\n",
    "\n",
    "        ..."
   ]
  },
  {
   "cell_type": "code",
   "execution_count": 48,
   "metadata": {},
   "outputs": [
    {
     "ename": "IndentationError",
     "evalue": "expected an indented block after function definition on line 14 (3655832837.py, line 16)",
     "output_type": "error",
     "traceback": [
      "\u001b[0;36m  Cell \u001b[0;32mIn[48], line 16\u001b[0;36m\u001b[0m\n\u001b[0;31m    def forward(self):\u001b[0m\n\u001b[0m    ^\u001b[0m\n\u001b[0;31mIndentationError\u001b[0m\u001b[0;31m:\u001b[0m expected an indented block after function definition on line 14\n"
     ]
    }
   ],
   "source": [
    "class MetropolisHastings:\n",
    "\n",
    "    def __init__(self, n_cities: int, n_workers: int, exploring_chain: MarkovChain, objective_function) -> None:\n",
    "        self.exploring_chain = exploring_chain\n",
    "        self.objective_function = objective_function\n",
    "\n",
    "        self.states = [\n",
    "            initalize_random_state(n_cities)\n",
    "            for _ in range(n_workers)\n",
    "        ]\n",
    "        self.scores = [\n",
    "            self.objective_function(state)\n",
    "            for state in self.states\n",
    "        ]\n",
    "\n",
    "    def acceptance(self, prev_score, new_score):\n",
    "        return np.min(1, np.exp(new_score - prev_score))\n",
    "\n",
    "    def forward(self):\n",
    "        for i, state in enumerate(self.states):\n",
    "            new_state = self.exploring_chain.next_state(state)\n",
    "            new_score = self.objective_function(new_state)\n",
    "            u = np.random.random()\n",
    "            if u <= self.acceptance(self.scores[i], new_score):\n",
    "                self.states[i] = new_state\n",
    "                self.scores = new_score\n"
   ]
  },
  {
   "cell_type": "code",
   "execution_count": null,
   "metadata": {},
   "outputs": [],
   "source": []
  }
 ],
 "metadata": {
  "kernelspec": {
   "display_name": "mio",
   "language": "python",
   "name": "python3"
  },
  "language_info": {
   "codemirror_mode": {
    "name": "ipython",
    "version": 3
   },
   "file_extension": ".py",
   "mimetype": "text/x-python",
   "name": "python",
   "nbconvert_exporter": "python",
   "pygments_lexer": "ipython3",
   "version": "3.10.13"
  }
 },
 "nbformat": 4,
 "nbformat_minor": 2
}
