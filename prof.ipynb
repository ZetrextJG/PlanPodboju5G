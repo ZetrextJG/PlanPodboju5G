{
 "cells": [
  {
   "cell_type": "code",
   "execution_count": 1,
   "metadata": {},
   "outputs": [],
   "source": [
    "import numpy as np\n",
    "import cProfile\n",
    "\n",
    "from src import Solver, RandomWalk, WeightedRandomJumps"
   ]
  },
  {
   "cell_type": "code",
   "execution_count": 2,
   "metadata": {},
   "outputs": [],
   "source": [
    "populations = np.random.random(100)\n",
    "positions = np.random.random((100, 2))\n",
    "\n",
    "distance_matrix = np.zeros((100, 100), dtype=np.float32)\n",
    "for i in range(100):\n",
    "    for j in range(i, 100):\n",
    "        distance_matrix[i, j] = distance_matrix[j, i] = np.sum((positions[i] - positions[j]) ** 2) ** 0.5"
   ]
  },
  {
   "cell_type": "code",
   "execution_count": 3,
   "metadata": {},
   "outputs": [],
   "source": [
    "solver = Solver(populations, distance_matrix, RandomWalk)\n",
    "with cProfile.Profile() as pf:\n",
    "    pf.run('solver.simulate_chains(1, 1000, 1000)[\"best_score\"]')"
   ]
  },
  {
   "cell_type": "code",
   "execution_count": null,
   "metadata": {},
   "outputs": [
    {
     "name": "stdout",
     "output_type": "stream",
     "text": [
      "         16002359 function calls in 22.585 seconds\n",
      "\n",
      "   Ordered by: cumulative time\n",
      "\n",
      "   ncalls  tottime  percall  cumtime  percall filename:lineno(function)\n",
      "        1    0.000    0.000   22.585   22.585 cProfile.py:93(run)\n",
      "        1    0.000    0.000   22.585   22.585 cProfile.py:98(runctx)\n",
      "        1    0.000    0.000   22.585   22.585 {built-in method builtins.exec}\n",
      "        1    0.000    0.000   22.585   22.585 <string>:1(<module>)\n",
      "        1    0.008    0.008   22.585   22.585 3330448856.py:21(simulate_chains)\n",
      "     1000    1.788    0.002   22.544    0.023 3436739998.py:33(forward)\n",
      "  1001000    2.459    0.000   13.341    0.000 3330448856.py:14(objective_function)\n",
      "  1001000    5.914    0.000    5.914    0.000 3160897994.py:1(calculate_radius)\n",
      "  1000000    1.797    0.000    5.210    0.000 578288408.py:27(next_state)\n",
      "  1001000    0.840    0.000    4.841    0.000 fromnumeric.py:2177(sum)\n",
      "  1001000    1.084    0.000    3.841    0.000 fromnumeric.py:71(_wrapreduction)\n",
      "   990162    2.430    0.000    2.430    0.000 {method 'integers' of 'numpy.random._generator.Generator' objects}\n",
      "  1002000    2.274    0.000    2.274    0.000 {method 'reduce' of 'numpy.ufunc' objects}\n",
      "  1000000    1.119    0.000    1.470    0.000 3436739998.py:30(acceptance)\n",
      "  2000000    1.321    0.000    1.321    0.000 {method 'random' of 'numpy.random._generator.Generator' objects}\n",
      "   990162    0.410    0.000    0.410    0.000 {method 'copy' of 'numpy.ndarray' objects}\n",
      "  1001000    0.394    0.000    0.394    0.000 fromnumeric.py:72(<dictcomp>)\n",
      "  1000000    0.352    0.000    0.352    0.000 {built-in method builtins.min}\n",
      "  1001000    0.160    0.000    0.160    0.000 {built-in method builtins.isinstance}\n",
      "  1001000    0.126    0.000    0.126    0.000 fromnumeric.py:2172(_sum_dispatcher)\n",
      "  1001000    0.093    0.000    0.093    0.000 {method 'items' of 'dict' objects}\n",
      "        1    0.000    0.000    0.018    0.018 3436739998.py:7(__init__)\n",
      "        1    0.000    0.000    0.013    0.013 3436739998.py:24(<listcomp>)\n",
      "     1000    0.003    0.000    0.007    0.000 fromnumeric.py:1140(argmax)\n",
      "     1000    0.001    0.000    0.007    0.000 {method 'sum' of 'numpy.ndarray' objects}\n",
      "     1000    0.001    0.000    0.006    0.000 _methods.py:47(_sum)\n",
      "     1000    0.002    0.000    0.005    0.000 fromnumeric.py:53(_wrapfunc)\n",
      "        1    0.000    0.000    0.004    0.004 3436739998.py:17(<listcomp>)\n",
      "     1000    0.002    0.000    0.004    0.000 83424635.py:1(initalize_random_state)\n",
      "     1000    0.002    0.000    0.002    0.000 {method 'argmax' of 'numpy.ndarray' objects}\n",
      "     1000    0.002    0.000    0.002    0.000 {method 'random' of 'numpy.random.mtrand.RandomState' objects}\n",
      "     1000    0.001    0.000    0.001    0.000 {built-in method builtins.getattr}\n",
      "     2000    0.000    0.000    0.000    0.000 {method 'append' of 'list' objects}\n",
      "        2    0.000    0.000    0.000    0.000 {built-in method numpy.array}\n",
      "     1000    0.000    0.000    0.000    0.000 fromnumeric.py:1136(_argmax_dispatcher)\n",
      "        1    0.000    0.000    0.000    0.000 {numpy.random._generator.default_rng}\n",
      "        1    0.000    0.000    0.000    0.000 contextlib.py:76(inner)\n",
      "        1    0.000    0.000    0.000    0.000 {function SeedSequence.generate_state at 0x7aad857877f0}\n",
      "        2    0.000    0.000    0.000    0.000 _ufunc_config.py:33(seterr)\n",
      "        1    0.000    0.000    0.000    0.000 _ufunc_config.py:430(__enter__)\n",
      "        1    0.000    0.000    0.000    0.000 random.py:826(getrandbits)\n",
      "        1    0.000    0.000    0.000    0.000 _ufunc_config.py:435(__exit__)\n",
      "        2    0.000    0.000    0.000    0.000 _ufunc_config.py:132(geterr)\n",
      "        1    0.000    0.000    0.000    0.000 {built-in method posix.urandom}\n",
      "        1    0.000    0.000    0.000    0.000 abc.py:117(__instancecheck__)\n",
      "        1    0.000    0.000    0.000    0.000 3330448856.py:12(get_objective_funtion)\n",
      "        2    0.000    0.000    0.000    0.000 {built-in method numpy.seterrobj}\n",
      "        1    0.000    0.000    0.000    0.000 {method 'disable' of '_lsprof.Profiler' objects}\n",
      "        4    0.000    0.000    0.000    0.000 {built-in method numpy.geterrobj}\n",
      "        1    0.000    0.000    0.000    0.000 {built-in method _abc._abc_instancecheck}\n",
      "        1    0.000    0.000    0.000    0.000 multiarray.py:153(concatenate)\n",
      "        1    0.000    0.000    0.000    0.000 {built-in method from_bytes}\n",
      "        1    0.000    0.000    0.000    0.000 {method 'enable' of '_lsprof.Profiler' objects}\n",
      "        1    0.000    0.000    0.000    0.000 contextlib.py:63(_recreate_cm)\n",
      "\n",
      "\n"
     ]
    }
   ],
   "source": [
    "pf.print_stats(sort=\"cumtime\")"
   ]
  },
  {
   "cell_type": "code",
   "execution_count": null,
   "metadata": {},
   "outputs": [
    {
     "name": "stdout",
     "output_type": "stream",
     "text": [
      "1.44 µs ± 96.1 ns per loop (mean ± std. dev. of 7 runs, 1,000,000 loops each)\n"
     ]
    }
   ],
   "source": [
    "%%timeit\n",
    "np.random.random(100)"
   ]
  },
  {
   "cell_type": "code",
   "execution_count": null,
   "metadata": {},
   "outputs": [
    {
     "name": "stdout",
     "output_type": "stream",
     "text": [
      "1.07 µs ± 34.5 ns per loop (mean ± std. dev. of 7 runs, 1,000,000 loops each)\n"
     ]
    }
   ],
   "source": [
    "%%timeit\n",
    "rgn.random(100)"
   ]
  },
  {
   "cell_type": "code",
   "execution_count": null,
   "metadata": {},
   "outputs": [],
   "source": [
    "# Generating 1 random int in a range takes 6.61 mirco sec\n",
    "# Generating 20_000 random int in a range takes 20.1 micro sec"
   ]
  }
 ],
 "metadata": {
  "kernelspec": {
   "display_name": "mio",
   "language": "python",
   "name": "python3"
  },
  "language_info": {
   "codemirror_mode": {
    "name": "ipython",
    "version": 3
   },
   "file_extension": ".py",
   "mimetype": "text/x-python",
   "name": "python",
   "nbconvert_exporter": "python",
   "pygments_lexer": "ipython3",
   "version": "3.10.13"
  }
 },
 "nbformat": 4,
 "nbformat_minor": 2
}
